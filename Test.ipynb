{
 "cells": [
  {
   "cell_type": "code",
   "execution_count": 2,
   "metadata": {
    "scrolled": true
   },
   "outputs": [
    {
     "name": "stdout",
     "output_type": "stream",
     "text": [
      "['Лист1']\n",
      "Wall time: 31.3 ms\n"
     ]
    }
   ],
   "source": [
    "%%time\n",
    "import xlrd\n",
    "import pandas as pd\n",
    "import xlsxwriter\n",
    "import re\n",
    "\n",
    "file = './excel/output3.xlsx'\n",
    "xl = pd.ExcelFile(file)\n",
    "print(xl.sheet_names)\n",
    "resPd = xl.parse(xl.sheet_names[0])"
   ]
  },
  {
   "cell_type": "code",
   "execution_count": 3,
   "metadata": {},
   "outputs": [
    {
     "name": "stdout",
     "output_type": "stream",
     "text": [
      "0 Name           NaN\n",
      "Version        NaN\n",
      "WithoutVers    NaN\n",
      "Rep             []\n",
      "AAA            NaN\n",
      "Name: 0, dtype: object\n"
     ]
    },
    {
     "ename": "NameError",
     "evalue": "name 'words' is not defined",
     "output_type": "error",
     "traceback": [
      "\u001b[1;31m---------------------------------------------------------------------------\u001b[0m",
      "\u001b[1;31mNameError\u001b[0m                                 Traceback (most recent call last)",
      "\u001b[1;32m<timed exec>\u001b[0m in \u001b[0;36m<module>\u001b[1;34m()\u001b[0m\n",
      "\u001b[1;31mNameError\u001b[0m: name 'words' is not defined"
     ]
    }
   ],
   "source": [
    "%%time\n",
    "Version = []\n",
    "WithoutVers = []\n",
    "Rep = []\n",
    "AAA = []\n",
    "words = ''\n",
    "for i, key in resPd.iterrows():\n",
    "    print(str(i) + ' '+str(key))\n",
    "    vers = re.findall(r'(?=(верси.+?)(верси|cерийн|с функ|в составе|техническ|идентифи|завод|зав.|партия|по заявке|выполняю|реализу|и медиаш|$|\\)|\\())', str(key.Name))\n",
    "    if(not vers): vers = re.findall(r'(программное обеспечение отсутствует)()', str(key.Name))\n",
    "    Version.append(str(''))\n",
    "    WithoutVers.append(str(key.Name))\n",
    "    if vers:\n",
    "        for key2 in vers:\n",
    "            Version[i] += str(key2[0]) + ' || '                             # Заносим очередную версию в Version\n",
    "            WithoutVers[i] = re.sub(str(key2[0]), '', WithoutVers[i])       # Удаляем версию\n",
    "        # Удаляем всякие штуки\n",
    "        WithoutVers[i] = re.sub(r'(\\(\\)|\\s$|\\,\\s$|\\.$)', '', WithoutVers[i])\n",
    "        Version[i] = re.sub(r'(версия\\sПО\\s-|версия\\sПО:|версия\\sПО|версии\\sПО:|версии\\sПО|версии|версия\\sпрограммного\\sобеспечения|версия)', '', Version[i])\n",
    "        print('Захожу')\n",
    "        print(str(WithoutVers))\n",
    "        words = re.sub(r'(\\\"|\\(|\\)|\\,|«|»|;|\\s-\\s|:)', '', str(WithoutVers))\n",
    "        # print(str(words))\n",
    "        aaa = re.findall(r'\\s([A-Za-z\\d\\-/]+)', str(words))\n",
    "        print(aaa)\n",
    "        if aaa: AAA.append(aaa[0])\n",
    "        else: AAA.append(str(''))\n",
    "        words = words.split(' ')\n",
    "        Table = []\n",
    "        Iskl = []\n",
    "        for word in words:\n",
    "            if word not in Table:\n",
    "                Iskl.append(str(''))\n",
    "                Rep.append(Iskl[len(Iskl)]) \n",
    "                Table.append(word)\n",
    "            else:\n",
    "                if word not in Iskl: Iskl.append(word)   \n",
    "\n",
    "print('Закончилось')"
   ]
  },
  {
   "cell_type": "markdown",
   "metadata": {},
   "source": [
    "Version = pd.Series(Version)\n",
    "resPd = resPd.assign(Version=Version.values)\n",
    "WithoutVers = pd.Series(WithoutVers)\n",
    "resPd = resPd.assign(WithoutVers=WithoutVers.values)\n",
    "Rep = pd.Series(Rep)\n",
    "resPd = resPd.assign(Rep=Rep.values)\n",
    "AAA = pd.Series(AAA)\n",
    "resPd = resPd.assign(AAA=AAA.values)\n",
    "\n",
    "resPd = resPd.rename(columns={'Version': 'Версия', 'WithoutVers': 'Без версии'})\n",
    "\n",
    "writer = pd.ExcelWriter('./excel/output3.xlsx')\n",
    "resPd.to_excel(writer,'Лист1')\n",
    "writer.save()\n",
    "\n",
    "print('Normas')"
   ]
  }
 ],
 "metadata": {
  "kernelspec": {
   "display_name": "Python 3",
   "language": "python",
   "name": "python3"
  },
  "language_info": {
   "codemirror_mode": {
    "name": "ipython",
    "version": 3
   },
   "file_extension": ".py",
   "mimetype": "text/x-python",
   "name": "python",
   "nbconvert_exporter": "python",
   "pygments_lexer": "ipython3",
   "version": "3.6.6"
  }
 },
 "nbformat": 4,
 "nbformat_minor": 2
}
